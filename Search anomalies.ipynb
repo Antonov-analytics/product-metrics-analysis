{
 "cells": [
  {
   "cell_type": "markdown",
   "id": "a8285bc0-54ee-48f4-bb2d-1ac11dd94f7e",
   "metadata": {},
   "source": [
    "### 🧩 Anomaly Detection in the News Feed\n",
    "\n",
    "This analysis focuses on identifying unusual user activity patterns in a mobile application that provides a **personalized news feed**.  \n",
    "Users can browse posts, like them, and interact with the content that matches their interests.  \n",
    "\n",
    "During routine monitoring, a **sudden drop in Daily Active Users (DAU)** was detected on **August 24, 2025**.  \n",
    "The objective of this study is to locate the cause of this anomaly and understand whether it was a technical issue, a localized outage, or a behavioral shift in user engagement.  \n",
    "\n",
    "To achieve this, we analyze user activity across countries, cities, and segments to determine where and why the drop occurred.\n",
    "\n",
    "---\n",
    "\n",
    "**Context**\n",
    "\n",
    "The dataset contains user activity logs from August 22 to August 26, 2025.  \n",
    "We analyze the dynamics of user engagement across the top 7 countries and further examine Russian cities to identify regional irregularities.\n",
    "\n",
    "---\n",
    "\n",
    "**Goals**\n",
    "\n",
    "- Detect anomalies in user activity across countries and cities;  \n",
    "- Determine whether the observed drop was isolated or systemic;  \n",
    "- Assess potential factors influencing the anomaly (e.g., geography, gender, OS).  \n",
    "\n",
    "---\n",
    "\n",
    "**Expected Outcome**\n",
    "\n",
    "Identify whether the detected drop in DAU on **August 24, 2025** was due to:\n",
    "\n",
    "- data upload or logging errors;  \n",
    "- a regional outage affecting specific cities; \n",
    "- a genuine change in user behavior.\n"
   ]
  },
  {
   "cell_type": "code",
   "execution_count": 1,
   "id": "05c1f19d-a822-4123-a6f5-ca0088e82e9e",
   "metadata": {},
   "outputs": [],
   "source": [
    "#importing libraries\n",
    "import pandahouse as ph\n",
    "import matplotlib.pyplot as plt\n",
    "import pandas as pd"
   ]
  },
  {
   "cell_type": "code",
   "execution_count": 2,
   "id": "afd44a9f-d364-42a6-97f2-f2ef32b4c660",
   "metadata": {},
   "outputs": [],
   "source": [
    "#database connection parameters (ClickHouse)\n",
    "connection = {\n",
    "    'host': 'https://clickhouse.lab.karpov.courses',\n",
    "    'password': 'dpo_python_2020',\n",
    "    'user': 'student',\n",
    "    'database': 'simulator'\n",
    "}"
   ]
  },
  {
   "cell_type": "code",
   "execution_count": 3,
   "id": "92116011-3084-4bbf-904e-e9e6de036cd9",
   "metadata": {},
   "outputs": [],
   "source": [
    "#count DAU (top 7 countries)\n",
    "query = \"\"\"\n",
    "with top_countries as (\n",
    "    select country\n",
    "    from simulator_20250820.feed_actions\n",
    "    group by country\n",
    "    order by countDistinct(user_id) desc\n",
    "    limit 7\n",
    ")\n",
    "\n",
    "select\n",
    "    toDate(time) as date,\n",
    "    case \n",
    "        when country in (\n",
    "        select country \n",
    "        from top_countries\n",
    "        ) \n",
    "        then country\n",
    "        else 'Other'\n",
    "    end as country_group,\n",
    "    countDistinct(user_id) as dau\n",
    "from simulator_20250820.feed_actions\n",
    "where toDate(time) between '2025-08-22' and '2025-08-26'\n",
    "group by date, country_group\n",
    "order by date, dau desc;\n",
    "\"\"\""
   ]
  },
  {
   "cell_type": "code",
   "execution_count": 12,
   "id": "888fa28d-5e5a-4159-998a-f3459a13ab25",
   "metadata": {},
   "outputs": [],
   "source": [
    "#test query\n",
    "df = ph.read_clickhouse(query, connection=connection)"
   ]
  },
  {
   "cell_type": "code",
   "execution_count": 5,
   "id": "698a75a8-1425-459f-ba69-58e6784daa06",
   "metadata": {},
   "outputs": [],
   "source": [
    "#create a pivot table for the top 7 countries\n",
    "df_pivot = df.pivot(index=\"date\", columns=\"country_group\", values=\"dau\")\n",
    "df_pivot = df_pivot[df_pivot.sum().sort_values(ascending=False).index]"
   ]
  },
  {
   "cell_type": "code",
   "execution_count": 6,
   "id": "d66847d3-e4bd-4d29-b600-ab9883e7c9e9",
   "metadata": {},
   "outputs": [
    {
     "data": {
      "text/html": [
       "<div>\n",
       "<style scoped>\n",
       "    .dataframe tbody tr th:only-of-type {\n",
       "        vertical-align: middle;\n",
       "    }\n",
       "\n",
       "    .dataframe tbody tr th {\n",
       "        vertical-align: top;\n",
       "    }\n",
       "\n",
       "    .dataframe thead th {\n",
       "        text-align: right;\n",
       "    }\n",
       "</style>\n",
       "<table border=\"1\" class=\"dataframe\">\n",
       "  <thead>\n",
       "    <tr style=\"text-align: right;\">\n",
       "      <th>country_group</th>\n",
       "      <th>Russia</th>\n",
       "      <th>Ukraine</th>\n",
       "      <th>Belarus</th>\n",
       "      <th>Kazakhstan</th>\n",
       "      <th>Finland</th>\n",
       "      <th>Azerbaijan</th>\n",
       "      <th>Turkey</th>\n",
       "      <th>Other</th>\n",
       "    </tr>\n",
       "    <tr>\n",
       "      <th>date</th>\n",
       "      <th></th>\n",
       "      <th></th>\n",
       "      <th></th>\n",
       "      <th></th>\n",
       "      <th></th>\n",
       "      <th></th>\n",
       "      <th></th>\n",
       "      <th></th>\n",
       "    </tr>\n",
       "  </thead>\n",
       "  <tbody>\n",
       "    <tr>\n",
       "      <th>2025-08-22</th>\n",
       "      <td>14588</td>\n",
       "      <td>865</td>\n",
       "      <td>350</td>\n",
       "      <td>334</td>\n",
       "      <td>180</td>\n",
       "      <td>153</td>\n",
       "      <td>152</td>\n",
       "      <td>83</td>\n",
       "    </tr>\n",
       "    <tr>\n",
       "      <th>2025-08-23</th>\n",
       "      <td>14216</td>\n",
       "      <td>776</td>\n",
       "      <td>368</td>\n",
       "      <td>305</td>\n",
       "      <td>163</td>\n",
       "      <td>147</td>\n",
       "      <td>149</td>\n",
       "      <td>71</td>\n",
       "    </tr>\n",
       "    <tr>\n",
       "      <th>2025-08-24</th>\n",
       "      <td>11908</td>\n",
       "      <td>906</td>\n",
       "      <td>326</td>\n",
       "      <td>362</td>\n",
       "      <td>155</td>\n",
       "      <td>167</td>\n",
       "      <td>180</td>\n",
       "      <td>69</td>\n",
       "    </tr>\n",
       "    <tr>\n",
       "      <th>2025-08-25</th>\n",
       "      <td>15316</td>\n",
       "      <td>862</td>\n",
       "      <td>366</td>\n",
       "      <td>353</td>\n",
       "      <td>189</td>\n",
       "      <td>191</td>\n",
       "      <td>170</td>\n",
       "      <td>63</td>\n",
       "    </tr>\n",
       "    <tr>\n",
       "      <th>2025-08-26</th>\n",
       "      <td>15477</td>\n",
       "      <td>887</td>\n",
       "      <td>370</td>\n",
       "      <td>350</td>\n",
       "      <td>185</td>\n",
       "      <td>186</td>\n",
       "      <td>161</td>\n",
       "      <td>87</td>\n",
       "    </tr>\n",
       "  </tbody>\n",
       "</table>\n",
       "</div>"
      ],
      "text/plain": [
       "country_group  Russia  Ukraine  Belarus  Kazakhstan  Finland  Azerbaijan  \\\n",
       "date                                                                       \n",
       "2025-08-22      14588      865      350         334      180         153   \n",
       "2025-08-23      14216      776      368         305      163         147   \n",
       "2025-08-24      11908      906      326         362      155         167   \n",
       "2025-08-25      15316      862      366         353      189         191   \n",
       "2025-08-26      15477      887      370         350      185         186   \n",
       "\n",
       "country_group  Turkey  Other  \n",
       "date                          \n",
       "2025-08-22        152     83  \n",
       "2025-08-23        149     71  \n",
       "2025-08-24        180     69  \n",
       "2025-08-25        170     63  \n",
       "2025-08-26        161     87  "
      ]
     },
     "execution_count": 6,
     "metadata": {},
     "output_type": "execute_result"
    }
   ],
   "source": [
    "#check\n",
    "df_pivot"
   ]
  },
  {
   "cell_type": "markdown",
   "id": "9945dd90-c895-43dd-a516-dea5985ff4b2",
   "metadata": {},
   "source": [
    "There was a noticeable decline in user activity in Russia on August 24, 2025, compared to the previous day.\n",
    "\n",
    "For users from other countries, the changes were minor, showing mixed dynamics.\n",
    "In Ukraine, Kazakhstan, Azerbaijan, and Turkey, the number of users on August 24, 2025 was higher than on August 23, 2025.\n",
    "Meanwhile, a negative trend was observed in Belarus and Finland, where the number of users decreased by 42 and 8, respectively.\n",
    "\n",
    "Next, let’s plot a bar chart to visualize the decline in user activity."
   ]
  },
  {
   "cell_type": "code",
   "execution_count": 14,
   "id": "433b0020-4348-430d-b8be-127e2564d207",
   "metadata": {},
   "outputs": [
    {
     "data": {
      "image/png": "[encoded data removed]",
      "text/plain": [
       "<Figure size 1080x432 with 1 Axes>"
      ]
     },
     "metadata": {
      "needs_background": "light"
     },
     "output_type": "display_data"
    }
   ],
   "source": [
    "#plot a bar chart for the top 7 countries using the news feed\n",
    "ax = df_pivot.plot(kind=\"bar\", figsize=(15,6), width=0.8)\n",
    "plt.title(\"DAU (top 7 countries)\")\n",
    "plt.xlabel(\"Date\")\n",
    "plt.ylabel(\"Unique users\")\n",
    "plt.xticks(rotation=0)\n",
    "plt.grid(axis=\"y\", linestyle=\"--\", alpha=0.7)\n",
    "plt.legend(title=\"Country\")\n",
    "plt.show()"
   ]
  },
  {
   "cell_type": "markdown",
   "id": "42bdaddc-037c-4c57-aec8-8410a41ec71b",
   "metadata": {},
   "source": [
    "The provided logs also contain data on user activity broken down by cities.\n",
    "\n",
    "Let’s take a closer look at Russian cities for the same time period."
   ]
  },
  {
   "cell_type": "code",
   "execution_count": 15,
   "id": "027d1a50-959a-436e-a02f-0f38696c3a73",
   "metadata": {},
   "outputs": [],
   "source": [
    "#since there are too many cities, filter only those with DAU greater than 150\n",
    "query_1=\"\"\"\n",
    "select \n",
    "    toDate(time) as date,\n",
    "    country,\n",
    "    city,\n",
    "    countDistinct(user_id) as dau\n",
    "from simulator_20250820.feed_actions\n",
    "where toDate(time) between '2025-08-22' and '2025-08-26' \n",
    "  and country = 'Russia'\n",
    "  group by date, country, city\n",
    "  having countDistinct(user_id) >=150\n",
    "order by date\n",
    "\"\"\""
   ]
  },
  {
   "cell_type": "code",
   "execution_count": 16,
   "id": "5cc78dc2-9ad8-4f48-863f-2481c4880a85",
   "metadata": {},
   "outputs": [],
   "source": [
    "#test query\n",
    "df_2 = ph.read_clickhouse(query_1, connection=connection)"
   ]
  },
  {
   "cell_type": "code",
   "execution_count": 10,
   "id": "2ce5a1cc-0b52-4edb-a532-1e76089d81c3",
   "metadata": {},
   "outputs": [],
   "source": [
    "#create a pivot table for Russian cities\n",
    "df_pivot_2 = df_2.pivot(index=\"date\", columns=\"city\", values=\"dau\")"
   ]
  },
  {
   "cell_type": "code",
   "execution_count": 17,
   "id": "b707363f-763b-4870-ac16-a1e0ed94ed20",
   "metadata": {},
   "outputs": [
    {
     "data": {
      "image/png": "[encoded data removed]",
      "text/plain": [
       "<Figure size 1080x504 with 1 Axes>"
      ]
     },
     "metadata": {
      "needs_background": "light"
     },
     "output_type": "display_data"
    }
   ],
   "source": [
    "#plot a bar chart for the cities using the news feed\n",
    "ax = df_pivot_2.plot(kind=\"bar\", figsize=(15,7), width=0.8)\n",
    "plt.title(\"DAU (by cities)\")\n",
    "plt.xlabel(\"Date\")\n",
    "plt.ylabel(\"Unique users\")\n",
    "plt.xticks(rotation=0)\n",
    "plt.grid(axis=\"y\", linestyle=\"--\", alpha=0.7)\n",
    "plt.legend(title=\"City\", loc=\"upper right\")\n",
    "plt.show()"
   ]
  },
  {
   "cell_type": "markdown",
   "id": "54717047-4cc9-4eca-8682-094190961b60",
   "metadata": {},
   "source": [
    "The obtained DAU by Russian cities confirms the issue in user activity on August 24, 2025.\n",
    "On that day, data for Moscow and Saint Petersburg is missing from the dataset, even though these cities consistently ranked among the top by the number of active users on other dates.\n",
    "As a result, the total number of active users in Russia dropped sharply.\n",
    "\n",
    "Additionally, using **Redash**, the following checks were performed:\n",
    "\n",
    "- User activity was analyzed by gender and operating system — no anomalies were found;\n",
    "- User activity was reviewed for all Russian cities whose residents used the app on August 23, 2025, but not on August 24, 2025, excluding Moscow and Saint Petersburg. Again, no anomalies were detected. A total of 29 users who were active in the news feed on August 23, 2025 did not log in on August 24, 2025. These appear to be regular users who simply skipped one day of activity (≈1 user per city), which does not indicate any systemic failures or widespread access issues with the news feed."
   ]
  },
  {
   "cell_type": "markdown",
   "id": "a7e08cd3-ef6c-4745-b437-3b65deb14c04",
   "metadata": {},
   "source": [
    "# Conclusion\n",
    "\n",
    "Based on the results of the analysis, we can draw the following conclusions:\n",
    "\n",
    "- First, we compared user activity by country, which helped to determine that the issue was localized only in Russia;\n",
    "- Second, we analyzed user activity by city, which revealed key behavioral patterns among users.\n",
    "\n",
    "Thus, the issue appears to be related not to individual users, but to a specific group — namely, residents of Russia’s largest cities.\n",
    "\n",
    "Users are united by geography: those in Moscow and Saint Petersburg were unable to access the news feed on August 24, 2025, indicating a technical failure or localized service outage.\n",
    "It is also possible that the issue stems from data logging or upload errors in the database.\n",
    "\n",
    "**Recommendations:**\n",
    "\n",
    "- Verify with the data engineering team whether user session data for August 24, 2025 was correctly uploaded;\n",
    "- Confirm with the infrastructure team whether any maintenance or technical work was carried out on that date."
   ]
  },
  {
   "cell_type": "code",
   "execution_count": null,
   "id": "6402a167-a572-4f0b-87b0-fd5390d5a513",
   "metadata": {},
   "outputs": [],
   "source": []
  }
 ],
 "metadata": {
  "kernelspec": {
   "display_name": "Python 3 (ipykernel)",
   "language": "python",
   "name": "python3"
  },
  "language_info": {
   "codemirror_mode": {
    "name": "ipython",
    "version": 3
   },
   "file_extension": ".py",
   "mimetype": "text/x-python",
   "name": "python",
   "nbconvert_exporter": "python",
   "pygments_lexer": "ipython3",
   "version": "3.12.3"
  }
 },
 "nbformat": 4,
 "nbformat_minor": 5
}
